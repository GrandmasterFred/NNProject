{
 "cells": [
  {
   "cell_type": "code",
   "execution_count": 1,
   "metadata": {
    "collapsed": true
   },
   "outputs": [],
   "source": [
    "# set a variable that targets the image folder in it\n",
    "SV_DATA = 'E:\\compcars\\sv_data_20_classes\\image'"
   ]
  },
  {
   "cell_type": "code",
   "execution_count": 2,
   "outputs": [],
   "source": [
    "import torch\n",
    "from torch.utils.data import DataLoader\n",
    "import torch.nn.functional as F\n",
    "import torchvision.transforms as transforms\n",
    "import torchvision\n",
    "import matplotlib.pyplot as plt\n",
    "import numpy as np\n",
    "import torch.optim as optim\n",
    "\n",
    "# Define data transformations and directories\n",
    "transform = transforms.Compose([\n",
    "    transforms.Resize((100, 100)),\n",
    "    transforms.ToTensor(),\n",
    "    transforms.Normalize((0.485, 0.456, 0.406), (0.229, 0.224, 0.225)),\n",
    "    # we will be doing this analysis in grayscale\n",
    "    transforms.Grayscale()\n",
    "])\n",
    "\n",
    "# Create a dataset using ImageFolder\n",
    "dataset = torchvision.datasets.ImageFolder(root=SV_DATA, transform=transform)\n",
    "\n",
    "# Create data loaders for training and validation\n",
    "batch_size = 32\n",
    "train_size = int(0.8 * len(dataset))\n",
    "val_size = len(dataset) - train_size\n",
    "train_dataset, val_dataset = torch.utils.data.random_split(dataset, [train_size, val_size])\n",
    "# split this up again for val and test dataset\n",
    "test_size = int(0.5 * len(val_dataset))\n",
    "val_size = len(val_dataset) - test_size\n",
    "val_dataset, test_dataset = torch.utils.data.random_split(val_dataset, [val_size, test_size])\n",
    "\n",
    "# initializaing the dataloaders\n",
    "train_loader = DataLoader(train_dataset, batch_size=batch_size, shuffle=True)\n",
    "val_loader = DataLoader(val_dataset, batch_size=batch_size)\n",
    "test_loader = DataLoader(test_dataset, batch_size=batch_size)\n"
   ],
   "metadata": {
    "collapsed": false,
    "pycharm": {
     "name": "#%%\n"
    }
   }
  },
  {
   "cell_type": "code",
   "execution_count": 3,
   "outputs": [],
   "source": [
    "import torch.nn as nn\n",
    "\n",
    "class NeuralNetwork(nn.Module):\n",
    "    # note that this neural network needs to be able to accept the 20 classes that\n",
    "    def __init__(self):\n",
    "        super(NeuralNetwork, self).__init__()\n",
    "\n",
    "        # defining the feature extraction layer of the network, these are convolution layers, they are paired with activation\n",
    "        # layers, which adds non-linearity into the network, allowing it to learn better\n",
    "        # feel free to edit the layers and see how they affect the network\n",
    "        self.features = nn.Sequential(\n",
    "            # this makes it easier to make layers of the neural network\n",
    "            # as an excercise, try calculating the output of each layer, for example\n",
    "            # input of 32, 1, 100, 100 (batch size, channel, width, height)\n",
    "            nn.Conv2d(in_channels=1, out_channels=3, kernel_size=(7,7), stride=(1,1 )),\n",
    "            # 32, 3, 94, 94\n",
    "            nn.ReLU(),\n",
    "            # 32, 3, 94, 94\n",
    "            nn.MaxPool2d(kernel_size=(2, 2), stride=(2, 2)),\n",
    "            # 32, 3, 47, 47\n",
    "\n",
    "            nn.Conv2d(in_channels=3, out_channels=12, kernel_size=(10, 10), stride=(1,1 )),\n",
    "            #\n",
    "            nn.ReLU(),\n",
    "            #\n",
    "            nn.MaxPool2d(kernel_size=(2, 2), stride=(2, 2)),\n",
    "            #\n",
    "\n",
    "            nn.Conv2d(in_channels=12, out_channels=60, kernel_size=(5, 5), stride=(2, 2)),\n",
    "            #\n",
    "            nn.ReLU()\n",
    "            #\n",
    "        )\n",
    "\n",
    "        # defining the classifier of the network, where the network makes a decision of what class the image is\n",
    "        # based on the features extracted\n",
    "        self.classifier = nn.Sequential(\n",
    "            nn.Linear(3840, 20)\n",
    "        )\n",
    "    def forward(self, x):\n",
    "        out = self.features(x)\n",
    "        out = torch.flatten(out, 1)   # this one is for the batches, to resize it so that it wont have an issue\n",
    "        out = self.classifier(out)\n",
    "        return out"
   ],
   "metadata": {
    "collapsed": false,
    "pycharm": {
     "name": "#%%\n"
    }
   }
  },
  {
   "cell_type": "code",
   "execution_count": 9,
   "outputs": [],
   "source": [
    "model = NeuralNetwork()\n",
    "from torchinfo import summary\n",
    "from tqdm import tqdm"
   ],
   "metadata": {
    "collapsed": false,
    "pycharm": {
     "name": "#%%\n"
    }
   }
  },
  {
   "cell_type": "code",
   "execution_count": 10,
   "outputs": [
    {
     "name": "stdout",
     "output_type": "stream",
     "text": [
      "cuda\n"
     ]
    }
   ],
   "source": [
    "# defining the parameters of the network\n",
    "optimizer = optim.SGD(model.parameters(), lr=0.001) # this is the learning rate\n",
    "criterion = nn.CrossEntropyLoss()                   # this is the loss function\n",
    "\n",
    "max_epoch = 3    # how long we want it to train\n",
    "\n",
    "# you can change the runtime type at the top right corner. i used cpu for testing this notebook\n",
    "if torch.cuda.is_available():\n",
    "    device = torch.device('cuda')\n",
    "    print('cuda')\n",
    "else:\n",
    "    device = torch.device('cpu')\n",
    "    print('cpu')"
   ],
   "metadata": {
    "collapsed": false,
    "pycharm": {
     "name": "#%%\n"
    }
   }
  },
  {
   "cell_type": "code",
   "execution_count": 12,
   "outputs": [
    {
     "name": "stdout",
     "output_type": "stream",
     "text": [
      "training started for epoch: 0\n"
     ]
    },
    {
     "name": "stderr",
     "output_type": "stream",
     "text": [
      "100%|██████████| 65/65 [00:40<00:00,  1.60it/s]\n"
     ]
    },
    {
     "name": "stdout",
     "output_type": "stream",
     "text": [
      "currently at epoch 0 train accuracy: tensor(0.1010, device='cuda:0') loss of: 2.9709756007561317\n"
     ]
    },
    {
     "name": "stderr",
     "output_type": "stream",
     "text": [
      "100%|██████████| 9/9 [00:05<00:00,  1.69it/s]\n"
     ]
    },
    {
     "name": "stdout",
     "output_type": "stream",
     "text": [
      "currently at epoch 0 eval accuracy: tensor(0.0997, device='cuda:0') loss of: 2.9712329265233635\n",
      "training started for epoch: 1\n"
     ]
    },
    {
     "name": "stderr",
     "output_type": "stream",
     "text": [
      "100%|██████████| 65/65 [00:19<00:00,  3.31it/s]\n"
     ]
    },
    {
     "name": "stdout",
     "output_type": "stream",
     "text": [
      "currently at epoch 1 train accuracy: tensor(0.1213, device='cuda:0') loss of: 2.9085562522594746\n"
     ]
    },
    {
     "name": "stderr",
     "output_type": "stream",
     "text": [
      "100%|██████████| 9/9 [00:01<00:00,  5.18it/s]\n"
     ]
    },
    {
     "name": "stdout",
     "output_type": "stream",
     "text": [
      "currently at epoch 1 eval accuracy: tensor(0.1175, device='cuda:0') loss of: 2.914575009732633\n",
      "training started for epoch: 2\n"
     ]
    },
    {
     "name": "stderr",
     "output_type": "stream",
     "text": [
      "100%|██████████| 65/65 [00:13<00:00,  4.66it/s]\n"
     ]
    },
    {
     "name": "stdout",
     "output_type": "stream",
     "text": [
      "currently at epoch 2 train accuracy: tensor(0.1212, device='cuda:0') loss of: 2.868048330453726\n"
     ]
    },
    {
     "name": "stderr",
     "output_type": "stream",
     "text": [
      "100%|██████████| 9/9 [00:01<00:00,  5.86it/s]"
     ]
    },
    {
     "name": "stdout",
     "output_type": "stream",
     "text": [
      "currently at epoch 2 eval accuracy: tensor(0.1174, device='cuda:0') loss of: 2.879438535587208\n",
      "the time taken is: 82.83855438232422\n"
     ]
    },
    {
     "name": "stderr",
     "output_type": "stream",
     "text": [
      "\n"
     ]
    }
   ],
   "source": [
    "import time\n",
    "start_time = time.time()\n",
    "\n",
    "# casting the model to whichever device\n",
    "model.to(device)\n",
    "\n",
    "# these will be to log the data we collect\n",
    "epoch_accuracy_values_train = []\n",
    "epoch_loss_values_train = []\n",
    "epoch_accuracy_values_eval = []\n",
    "epoch_loss_values_eval = []\n",
    "\n",
    "best_epoch_value = 0    # this is to see the highest accuracy\n",
    "best_epoch_epoch = 0    # this is to see when it achieves it\n",
    "\n",
    "# this will be looping through the epochs now\n",
    "for currentEpoch in range(max_epoch):\n",
    "    accuracy_values = []\n",
    "    loss_values = []\n",
    "    print(f'training started for epoch: {currentEpoch}')\n",
    "\n",
    "    # we will be going through the training dataset\n",
    "    for idx, (data, label) in enumerate(tqdm(train_loader)):\n",
    "        # this try statement is to catch any weird errors, so that if anything odd breaks, the training can still continue\n",
    "        try:\n",
    "            data, label = data.to(device), label.to(device)\n",
    "\n",
    "            # getting the outputs\n",
    "            outputs = model(data)\n",
    "\n",
    "            loss = criterion(outputs, label)\n",
    "\n",
    "            # updating the weights of the model\n",
    "            optimizer.zero_grad()\n",
    "            loss.backward()\n",
    "            optimizer.step()\n",
    "\n",
    "            # logging the varaibles\n",
    "            # loss\n",
    "            loss_values.append((loss.item()))\n",
    "\n",
    "            # accuracy\n",
    "            _, predicted = torch.max(outputs, 1) # in python _ means a variable that we are not going to use\n",
    "            # so the system automatically throws it away for us\n",
    "            accuracy = (predicted == label).float().mean()\n",
    "            accuracy_values.append(accuracy)\n",
    "\n",
    "        except Exception as e:\n",
    "            print(f'error located at index: {str(idx)} at epoch {str(currentEpoch)}')\n",
    "\n",
    "    # after each pass through the dataloader (one epoch), calculate the accuracy and loss for that epoch\n",
    "    epoch_loss = np.mean(loss_values)\n",
    "    epoch_loss_values_train.append(epoch_loss)\n",
    "    epoch_accuracy = torch.mean(torch.stack(accuracy_values))   # due to it being tensor\n",
    "    epoch_accuracy_values_train.append(epoch_accuracy.item())\n",
    "\n",
    "    tempString = 'currently at epoch ' + str(currentEpoch) + ' train accuracy: ' + str(epoch_accuracy) + ' loss of: ' + str(epoch_loss)\n",
    "    print(tempString)\n",
    "\n",
    "    # going through the evaluation phase to see how well it performs, and whether it overfitted or not\n",
    "    with torch.no_grad(): # this one turns off the process that allows the network to train. This is because we only want to evaluate it, not train it right now\n",
    "        for idx, (data, label) in enumerate(tqdm(val_loader)):\n",
    "            # this try statement is to catch any weird errors, so that if anything odd breaks, the training can still continue\n",
    "            try:\n",
    "                data, label = data.to(device), label.to(device)\n",
    "\n",
    "                # getting the outputs\n",
    "                outputs = model(data)\n",
    "\n",
    "                loss = criterion(outputs, label)\n",
    "\n",
    "\n",
    "                # logging the varaibles\n",
    "                # loss\n",
    "                loss_values.append((loss.item()))\n",
    "\n",
    "                # accuracy\n",
    "                _, predicted = torch.max(outputs, 1) # in python _ means a variable that we are not going to use\n",
    "                # so the system automatically throws it away for us\n",
    "                accuracy = (predicted == label).float().mean()\n",
    "                accuracy_values.append(accuracy)\n",
    "\n",
    "            except Exception as e:\n",
    "                print(f'error located at index: {str(idx)} at epoch {str(currentEpoch)}')\n",
    "        # after each pass through the dataloader (one epoch), calculate the accuracy and loss for that epoch\n",
    "        epoch_loss = np.mean(loss_values)\n",
    "        epoch_loss_values_eval.append(epoch_loss)\n",
    "        epoch_accuracy = torch.mean(torch.stack(accuracy_values))   # due to it being tensor\n",
    "        epoch_accuracy_values_eval.append(epoch_accuracy.item())\n",
    "\n",
    "        tempString = 'currently at epoch ' + str(currentEpoch) + ' eval accuracy: ' + str(epoch_accuracy) + ' loss of: ' + str(epoch_loss)\n",
    "        print(tempString)\n",
    "\n",
    "end_time = time.time()\n",
    "time_taken = end_time - start_time\n",
    "print(f'the time taken is: {time_taken}')"
   ],
   "metadata": {
    "collapsed": false,
    "pycharm": {
     "name": "#%%\n"
    }
   }
  },
  {
   "cell_type": "code",
   "execution_count": null,
   "outputs": [],
   "source": [],
   "metadata": {
    "collapsed": false,
    "pycharm": {
     "name": "#%%\n"
    }
   }
  }
 ],
 "metadata": {
  "kernelspec": {
   "display_name": "Python 3",
   "language": "python",
   "name": "python3"
  },
  "language_info": {
   "codemirror_mode": {
    "name": "ipython",
    "version": 2
   },
   "file_extension": ".py",
   "mimetype": "text/x-python",
   "name": "python",
   "nbconvert_exporter": "python",
   "pygments_lexer": "ipython2",
   "version": "2.7.6"
  }
 },
 "nbformat": 4,
 "nbformat_minor": 0
}