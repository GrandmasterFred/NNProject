{
 "cells": [
  {
   "cell_type": "markdown",
   "metadata": {
    "id": "arlxaCUh5jFl"
   },
   "source": [
    "# This will setup the baseline experiment for the neural network. And subsequent improvements will be made on this network\n"
   ]
  },
  {
   "cell_type": "markdown",
   "source": [
    "This one tests the network with lower dropout, since it looks like it is having trouble training\n",
    "\n",
    "Looks like these models do not have enough capacity, so i will be moving onto the inception model for the next one up."
   ],
   "metadata": {
    "collapsed": false
   }
  },
  {
   "cell_type": "markdown",
   "metadata": {
    "id": "gP7CEnsi8Gp4"
   },
   "source": [
    "This part sets up the dataset"
   ]
  },
  {
   "cell_type": "code",
   "execution_count": 1,
   "metadata": {
    "executionInfo": {
     "elapsed": 335,
     "status": "ok",
     "timestamp": 1692853607960,
     "user": {
      "displayName": "Kang Phan",
      "userId": "17382505543364018191"
     },
     "user_tz": -480
    },
    "id": "gWE4EXKe6aQl"
   },
   "outputs": [],
   "source": [
    "STUDENTID = 567     # this will be used for random states"
   ]
  },
  {
   "cell_type": "code",
   "execution_count": 2,
   "metadata": {
    "colab": {
     "base_uri": "https://localhost:8080/"
    },
    "executionInfo": {
     "elapsed": 14487,
     "status": "ok",
     "timestamp": 1692854163379,
     "user": {
      "displayName": "Kang Phan",
      "userId": "17382505543364018191"
     },
     "user_tz": -480
    },
    "id": "B7-VNPmt8E2m",
    "outputId": "1f1050da-e734-4407-d7c8-af006d3d6ecf"
   },
   "outputs": [
    {
     "name": "stdout",
     "output_type": "stream",
     "text": [
      "Files already downloaded and verified\n",
      "Files already downloaded and verified\n",
      "Number of training examples: 40000\n",
      "Number of validation examples: 10000\n",
      "Number of test examples: 10000\n"
     ]
    }
   ],
   "source": [
    "import torch\n",
    "import torchvision\n",
    "import torchvision.transforms as transforms\n",
    "import numpy as np\n",
    "import logging\n",
    "from utils import *\n",
    "import torch.optim as optim\n",
    "import os\n",
    "import shutil\n",
    "import os\n",
    "\n",
    "# Define data transformations\n",
    "transform = transforms.Compose([\n",
    "    transforms.ToTensor(),  # Convert PIL Image to PyTorch Tensor\n",
    "    transforms.Normalize((0.5, 0.5, 0.5), (0.5, 0.5, 0.5))  # Normalize the data\n",
    "])\n",
    "\n",
    "# define the label transformations, from int64 to float32\n",
    "transform_label = transforms.Compose([\n",
    "  #transforms.ToTensor()\n",
    "])\n",
    "\n",
    "# Download and load CIFAR-100 datasets\n",
    "train_dataset = torchvision.datasets.CIFAR10(root='./data', train=True, transform=transform, download=True, target_transform=transform_label)\n",
    "test_dataset = torchvision.datasets.CIFAR10(root='./data', train=False, transform=transform, download=True, target_transform=transform_label)\n",
    "\n",
    "\n",
    "# Calculate the sizes for train, validation, and test sets\n",
    "train_size = int(0.8 * len(train_dataset))\n",
    "valid_size = len(train_dataset) - train_size\n",
    "\n",
    "# Split the train dataset into train and validation sets using a random seed\n",
    "train_dataset, valid_dataset = torch.utils.data.random_split(train_dataset, [train_size, valid_size], generator=torch.Generator().manual_seed(STUDENTID))\n",
    "\n",
    "# Create data loaders for training, validation, and test sets\n",
    "batch_size = 64\n",
    "train_loader = torch.utils.data.DataLoader(train_dataset, batch_size=batch_size, shuffle=True)\n",
    "val_loader = torch.utils.data.DataLoader(valid_dataset, batch_size=batch_size, shuffle=False)\n",
    "test_loader = torch.utils.data.DataLoader(test_dataset, batch_size=batch_size, shuffle=False)\n",
    "\n",
    "# Print dataset sizes\n",
    "print(\"Number of training examples:\", len(train_dataset))\n",
    "print(\"Number of validation examples:\", len(valid_dataset))\n",
    "print(\"Number of test examples:\", len(test_dataset))\n",
    "\n"
   ]
  },
  {
   "cell_type": "markdown",
   "metadata": {
    "id": "ec3Yt5GL_ydv"
   },
   "source": [
    "Setting up the train, evaluation, and test functions\n"
   ]
  },
  {
   "cell_type": "markdown",
   "metadata": {
    "id": "ZqEmAt8s8Eiu"
   },
   "source": [
    "Setting up the neural network model\n"
   ]
  },
  {
   "cell_type": "code",
   "execution_count": 1,
   "metadata": {
    "id": "-PaTAXyF6P7P"
   },
   "outputs": [
    {
     "name": "stdout",
     "output_type": "stream",
     "text": [
      "==========================================================================================\n",
      "Layer (type:depth-idx)                   Output Shape              Param #\n",
      "==========================================================================================\n",
      "ProjectNN3                               [16, 10]                  --\n",
      "├─Sequential: 1-1                        [16, 32, 13, 13]          --\n",
      "│    └─Conv2d: 2-1                       [16, 12, 30, 30]          336\n",
      "│    └─BatchNorm2d: 2-2                  [16, 12, 30, 30]          24\n",
      "│    └─ReLU: 2-3                         [16, 12, 30, 30]          --\n",
      "│    └─MaxPool2d: 2-4                    [16, 12, 15, 15]          --\n",
      "│    └─Conv2d: 2-5                       [16, 32, 13, 13]          3,488\n",
      "│    └─BatchNorm2d: 2-6                  [16, 32, 13, 13]          64\n",
      "│    └─ReLU: 2-7                         [16, 32, 13, 13]          --\n",
      "├─Sequential: 1-2                        [16, 10]                  --\n",
      "│    └─Dropout: 2-8                      [16, 5408]                --\n",
      "│    └─Linear: 2-9                       [16, 100]                 540,900\n",
      "│    └─ReLU: 2-10                        [16, 100]                 --\n",
      "│    └─Dropout: 2-11                     [16, 100]                 --\n",
      "│    └─Linear: 2-12                      [16, 10]                  1,010\n",
      "==========================================================================================\n",
      "Total params: 545,822\n",
      "Trainable params: 545,822\n",
      "Non-trainable params: 0\n",
      "Total mult-adds (M): 22.94\n",
      "==========================================================================================\n",
      "Input size (MB): 0.20\n",
      "Forward/backward pass size (MB): 4.16\n",
      "Params size (MB): 2.18\n",
      "Estimated Total Size (MB): 6.54\n",
      "==========================================================================================\n"
     ]
    }
   ],
   "source": [
    "# creating a model that automatically runs the forward function i guess, since it is easier\n",
    "import torch\n",
    "import torch.nn as nn\n",
    "import torch.optim as optim\n",
    "from utils import *\n",
    "from customModels import *\n"
   ]
  },
  {
   "cell_type": "code",
   "execution_count": 4,
   "outputs": [
    {
     "name": "stdout",
     "output_type": "stream",
     "text": [
      "training starts here\n",
      "currently at epoch 0 train accuracy: tensor(0.2368, device='cuda:0') loss of: 2.1115961334228515 eval accuracy: tensor(0.3093, device='cuda:0')\n",
      "currently at epoch 1 train accuracy: tensor(0.3331, device='cuda:0') loss of: 1.858443334388733 eval accuracy: tensor(0.3621, device='cuda:0')\n",
      "currently at epoch 2 train accuracy: tensor(0.3772, device='cuda:0') loss of: 1.7298455904006957 eval accuracy: tensor(0.4085, device='cuda:0')\n",
      "currently at epoch 3 train accuracy: tensor(0.4088, device='cuda:0') loss of: 1.6432867572784424 eval accuracy: tensor(0.4229, device='cuda:0')\n",
      "currently at epoch 4 train accuracy: tensor(0.4343, device='cuda:0') loss of: 1.5733673065185547 eval accuracy: tensor(0.4456, device='cuda:0')\n",
      "currently at epoch 5 train accuracy: tensor(0.4534, device='cuda:0') loss of: 1.5197947385787964 eval accuracy: tensor(0.4695, device='cuda:0')\n",
      "currently at epoch 6 train accuracy: tensor(0.4727, device='cuda:0') loss of: 1.477942477798462 eval accuracy: tensor(0.4804, device='cuda:0')\n",
      "currently at epoch 7 train accuracy: tensor(0.4841, device='cuda:0') loss of: 1.4385292398452758 eval accuracy: tensor(0.4955, device='cuda:0')\n",
      "currently at epoch 8 train accuracy: tensor(0.4947, device='cuda:0') loss of: 1.4098610858917235 eval accuracy: tensor(0.5028, device='cuda:0')\n",
      "currently at epoch 9 train accuracy: tensor(0.5026, device='cuda:0') loss of: 1.3824741539001464 eval accuracy: tensor(0.5058, device='cuda:0')\n",
      "currently at epoch 10 train accuracy: tensor(0.5148, device='cuda:0') loss of: 1.3596722793579101 eval accuracy: tensor(0.5220, device='cuda:0')\n",
      "currently at epoch 11 train accuracy: tensor(0.5222, device='cuda:0') loss of: 1.3418877109527587 eval accuracy: tensor(0.5171, device='cuda:0')\n",
      "currently at epoch 12 train accuracy: tensor(0.5278, device='cuda:0') loss of: 1.3220425335884094 eval accuracy: tensor(0.5305, device='cuda:0')\n",
      "currently at epoch 13 train accuracy: tensor(0.5346, device='cuda:0') loss of: 1.3024744298934936 eval accuracy: tensor(0.5346, device='cuda:0')\n",
      "currently at epoch 14 train accuracy: tensor(0.5421, device='cuda:0') loss of: 1.2894674007415772 eval accuracy: tensor(0.5411, device='cuda:0')\n",
      "currently at epoch 15 train accuracy: tensor(0.5470, device='cuda:0') loss of: 1.2729802426338195 eval accuracy: tensor(0.5446, device='cuda:0')\n",
      "currently at epoch 16 train accuracy: tensor(0.5525, device='cuda:0') loss of: 1.254908043861389 eval accuracy: tensor(0.5470, device='cuda:0')\n",
      "currently at epoch 17 train accuracy: tensor(0.5596, device='cuda:0') loss of: 1.2455925956726075 eval accuracy: tensor(0.5490, device='cuda:0')\n",
      "currently at epoch 18 train accuracy: tensor(0.5641, device='cuda:0') loss of: 1.2299425727844238 eval accuracy: tensor(0.5542, device='cuda:0')\n",
      "currently at epoch 19 train accuracy: tensor(0.5671, device='cuda:0') loss of: 1.216163559436798 eval accuracy: tensor(0.5581, device='cuda:0')\n",
      "currently at epoch 20 train accuracy: tensor(0.5728, device='cuda:0') loss of: 1.2046742416381835 eval accuracy: tensor(0.5648, device='cuda:0')\n",
      "currently at epoch 21 train accuracy: tensor(0.5788, device='cuda:0') loss of: 1.1947498700141908 eval accuracy: tensor(0.5679, device='cuda:0')\n",
      "currently at epoch 22 train accuracy: tensor(0.5814, device='cuda:0') loss of: 1.183543314743042 eval accuracy: tensor(0.5629, device='cuda:0')\n",
      "currently at epoch 23 train accuracy: tensor(0.5846, device='cuda:0') loss of: 1.1747877814292909 eval accuracy: tensor(0.5714, device='cuda:0')\n",
      "currently at epoch 24 train accuracy: tensor(0.5893, device='cuda:0') loss of: 1.1615224921226501 eval accuracy: tensor(0.5729, device='cuda:0')\n",
      "currently at epoch 25 train accuracy: tensor(0.5929, device='cuda:0') loss of: 1.1517785930633544 eval accuracy: tensor(0.5705, device='cuda:0')\n",
      "currently at epoch 26 train accuracy: tensor(0.5961, device='cuda:0') loss of: 1.141605498790741 eval accuracy: tensor(0.5773, device='cuda:0')\n",
      "currently at epoch 27 train accuracy: tensor(0.6007, device='cuda:0') loss of: 1.1303048213005067 eval accuracy: tensor(0.5786, device='cuda:0')\n",
      "currently at epoch 28 train accuracy: tensor(0.6025, device='cuda:0') loss of: 1.1215581748008727 eval accuracy: tensor(0.5880, device='cuda:0')\n",
      "currently at epoch 29 train accuracy: tensor(0.6072, device='cuda:0') loss of: 1.1103891041755676 eval accuracy: tensor(0.5874, device='cuda:0')\n",
      "currently at epoch 30 train accuracy: tensor(0.6140, device='cuda:0') loss of: 1.1007627303123475 eval accuracy: tensor(0.5852, device='cuda:0')\n",
      "currently at epoch 31 train accuracy: tensor(0.6160, device='cuda:0') loss of: 1.0926442631721496 eval accuracy: tensor(0.5957, device='cuda:0')\n",
      "currently at epoch 32 train accuracy: tensor(0.6168, device='cuda:0') loss of: 1.083697223186493 eval accuracy: tensor(0.5967, device='cuda:0')\n",
      "currently at epoch 33 train accuracy: tensor(0.6224, device='cuda:0') loss of: 1.0717970940589905 eval accuracy: tensor(0.6021, device='cuda:0')\n",
      "currently at epoch 34 train accuracy: tensor(0.6246, device='cuda:0') loss of: 1.0637994362831116 eval accuracy: tensor(0.5971, device='cuda:0')\n",
      "currently at epoch 35 train accuracy: tensor(0.6290, device='cuda:0') loss of: 1.0550406113624573 eval accuracy: tensor(0.6000, device='cuda:0')\n",
      "currently at epoch 36 train accuracy: tensor(0.6302, device='cuda:0') loss of: 1.0486510642051696 eval accuracy: tensor(0.6015, device='cuda:0')\n",
      "currently at epoch 37 train accuracy: tensor(0.6338, device='cuda:0') loss of: 1.0388714874267577 eval accuracy: tensor(0.6118, device='cuda:0')\n",
      "currently at epoch 38 train accuracy: tensor(0.6385, device='cuda:0') loss of: 1.0307595195770263 eval accuracy: tensor(0.6060, device='cuda:0')\n",
      "currently at epoch 39 train accuracy: tensor(0.6396, device='cuda:0') loss of: 1.025314520263672 eval accuracy: tensor(0.6125, device='cuda:0')\n",
      "currently at epoch 40 train accuracy: tensor(0.6414, device='cuda:0') loss of: 1.0133983479499817 eval accuracy: tensor(0.6093, device='cuda:0')\n",
      "currently at epoch 41 train accuracy: tensor(0.6464, device='cuda:0') loss of: 1.0058715091705321 eval accuracy: tensor(0.6127, device='cuda:0')\n",
      "currently at epoch 42 train accuracy: tensor(0.6493, device='cuda:0') loss of: 0.997962687587738 eval accuracy: tensor(0.6162, device='cuda:0')\n",
      "currently at epoch 43 train accuracy: tensor(0.6492, device='cuda:0') loss of: 0.9950280863761902 eval accuracy: tensor(0.6207, device='cuda:0')\n",
      "currently at epoch 44 train accuracy: tensor(0.6544, device='cuda:0') loss of: 0.9844399690628052 eval accuracy: tensor(0.6194, device='cuda:0')\n",
      "currently at epoch 45 train accuracy: tensor(0.6542, device='cuda:0') loss of: 0.9809265212059021 eval accuracy: tensor(0.6199, device='cuda:0')\n",
      "currently at epoch 46 train accuracy: tensor(0.6584, device='cuda:0') loss of: 0.9736499038696289 eval accuracy: tensor(0.6280, device='cuda:0')\n",
      "currently at epoch 47 train accuracy: tensor(0.6608, device='cuda:0') loss of: 0.9681571741104126 eval accuracy: tensor(0.6191, device='cuda:0')\n",
      "currently at epoch 48 train accuracy: tensor(0.6653, device='cuda:0') loss of: 0.959067564868927 eval accuracy: tensor(0.6216, device='cuda:0')\n",
      "currently at epoch 49 train accuracy: tensor(0.6674, device='cuda:0') loss of: 0.9542747247695923 eval accuracy: tensor(0.6249, device='cuda:0')\n",
      "currently at epoch 50 train accuracy: tensor(0.6671, device='cuda:0') loss of: 0.9490397394180298 eval accuracy: tensor(0.6271, device='cuda:0')\n",
      "currently at epoch 51 train accuracy: tensor(0.6686, device='cuda:0') loss of: 0.941099270439148 eval accuracy: tensor(0.6317, device='cuda:0')\n",
      "currently at epoch 52 train accuracy: tensor(0.6713, device='cuda:0') loss of: 0.9373026698112488 eval accuracy: tensor(0.6378, device='cuda:0')\n",
      "currently at epoch 53 train accuracy: tensor(0.6730, device='cuda:0') loss of: 0.9299403568267822 eval accuracy: tensor(0.6270, device='cuda:0')\n",
      "currently at epoch 54 train accuracy: tensor(0.6748, device='cuda:0') loss of: 0.9263231278419495 eval accuracy: tensor(0.6312, device='cuda:0')\n",
      "currently at epoch 55 train accuracy: tensor(0.6778, device='cuda:0') loss of: 0.9147310151100159 eval accuracy: tensor(0.6317, device='cuda:0')\n",
      "currently at epoch 56 train accuracy: tensor(0.6784, device='cuda:0') loss of: 0.9130902009963989 eval accuracy: tensor(0.6339, device='cuda:0')\n",
      "currently at epoch 57 train accuracy: tensor(0.6819, device='cuda:0') loss of: 0.9066046798706054 eval accuracy: tensor(0.6319, device='cuda:0')\n",
      "currently at epoch 58 train accuracy: tensor(0.6850, device='cuda:0') loss of: 0.901368611049652 eval accuracy: tensor(0.6336, device='cuda:0')\n",
      "currently at epoch 59 train accuracy: tensor(0.6878, device='cuda:0') loss of: 0.8954163670539856 eval accuracy: tensor(0.6338, device='cuda:0')\n",
      "currently at epoch 60 train accuracy: tensor(0.6872, device='cuda:0') loss of: 0.8931393598556518 eval accuracy: tensor(0.6358, device='cuda:0')\n",
      "currently at epoch 61 train accuracy: tensor(0.6884, device='cuda:0') loss of: 0.8877068320274353 eval accuracy: tensor(0.6401, device='cuda:0')\n",
      "currently at epoch 62 train accuracy: tensor(0.6927, device='cuda:0') loss of: 0.8788728048324584 eval accuracy: tensor(0.6376, device='cuda:0')\n",
      "currently at epoch 63 train accuracy: tensor(0.6939, device='cuda:0') loss of: 0.875131613445282 eval accuracy: tensor(0.6401, device='cuda:0')\n",
      "currently at epoch 64 train accuracy: tensor(0.6952, device='cuda:0') loss of: 0.8748438893318177 eval accuracy: tensor(0.6400, device='cuda:0')\n",
      "currently at epoch 65 train accuracy: tensor(0.6953, device='cuda:0') loss of: 0.8675708009719849 eval accuracy: tensor(0.6426, device='cuda:0')\n",
      "currently at epoch 66 train accuracy: tensor(0.6966, device='cuda:0') loss of: 0.8635794545173645 eval accuracy: tensor(0.6447, device='cuda:0')\n",
      "currently at epoch 67 train accuracy: tensor(0.6985, device='cuda:0') loss of: 0.8622303771018982 eval accuracy: tensor(0.6427, device='cuda:0')\n",
      "currently at epoch 68 train accuracy: tensor(0.7005, device='cuda:0') loss of: 0.8560029137611389 eval accuracy: tensor(0.6384, device='cuda:0')\n",
      "currently at epoch 69 train accuracy: tensor(0.7040, device='cuda:0') loss of: 0.8521564630508422 eval accuracy: tensor(0.6378, device='cuda:0')\n",
      "currently at epoch 70 train accuracy: tensor(0.7053, device='cuda:0') loss of: 0.8389032848358154 eval accuracy: tensor(0.6431, device='cuda:0')\n",
      "currently at epoch 71 train accuracy: tensor(0.7063, device='cuda:0') loss of: 0.8400362654685974 eval accuracy: tensor(0.6409, device='cuda:0')\n",
      "currently at epoch 72 train accuracy: tensor(0.7069, device='cuda:0') loss of: 0.8396453505516053 eval accuracy: tensor(0.6480, device='cuda:0')\n",
      "currently at epoch 73 train accuracy: tensor(0.7085, device='cuda:0') loss of: 0.8326623248100281 eval accuracy: tensor(0.6481, device='cuda:0')\n",
      "currently at epoch 74 train accuracy: tensor(0.7105, device='cuda:0') loss of: 0.8254620999336243 eval accuracy: tensor(0.6437, device='cuda:0')\n",
      "currently at epoch 75 train accuracy: tensor(0.7113, device='cuda:0') loss of: 0.8224100222587586 eval accuracy: tensor(0.6455, device='cuda:0')\n",
      "currently at epoch 76 train accuracy: tensor(0.7149, device='cuda:0') loss of: 0.8165097592830658 eval accuracy: tensor(0.6496, device='cuda:0')\n",
      "currently at epoch 77 train accuracy: tensor(0.7176, device='cuda:0') loss of: 0.8115698285102845 eval accuracy: tensor(0.6469, device='cuda:0')\n",
      "currently at epoch 78 train accuracy: tensor(0.7175, device='cuda:0') loss of: 0.8107875294208526 eval accuracy: tensor(0.6495, device='cuda:0')\n",
      "currently at epoch 79 train accuracy: tensor(0.7153, device='cuda:0') loss of: 0.8060905184268952 eval accuracy: tensor(0.6448, device='cuda:0')\n",
      "currently at epoch 80 train accuracy: tensor(0.7199, device='cuda:0') loss of: 0.8035523858547211 eval accuracy: tensor(0.6497, device='cuda:0')\n",
      "currently at epoch 81 train accuracy: tensor(0.7224, device='cuda:0') loss of: 0.7989370997428894 eval accuracy: tensor(0.6478, device='cuda:0')\n",
      "currently at epoch 82 train accuracy: tensor(0.7238, device='cuda:0') loss of: 0.7936161016464234 eval accuracy: tensor(0.6477, device='cuda:0')\n",
      "currently at epoch 83 train accuracy: tensor(0.7247, device='cuda:0') loss of: 0.7918988754272461 eval accuracy: tensor(0.6500, device='cuda:0')\n",
      "currently at epoch 84 train accuracy: tensor(0.7256, device='cuda:0') loss of: 0.7876965491294861 eval accuracy: tensor(0.6549, device='cuda:0')\n",
      "currently at epoch 85 train accuracy: tensor(0.7288, device='cuda:0') loss of: 0.7818397353172303 eval accuracy: tensor(0.6489, device='cuda:0')\n",
      "currently at epoch 86 train accuracy: tensor(0.7274, device='cuda:0') loss of: 0.7804143607616425 eval accuracy: tensor(0.6571, device='cuda:0')\n",
      "currently at epoch 87 train accuracy: tensor(0.7272, device='cuda:0') loss of: 0.781683030128479 eval accuracy: tensor(0.6469, device='cuda:0')\n",
      "currently at epoch 88 train accuracy: tensor(0.7312, device='cuda:0') loss of: 0.7715333845615387 eval accuracy: tensor(0.6487, device='cuda:0')\n",
      "currently at epoch 89 train accuracy: tensor(0.7306, device='cuda:0') loss of: 0.7696075165748596 eval accuracy: tensor(0.6529, device='cuda:0')\n",
      "currently at epoch 90 train accuracy: tensor(0.7329, device='cuda:0') loss of: 0.7658962368965149 eval accuracy: tensor(0.6532, device='cuda:0')\n",
      "currently at epoch 91 train accuracy: tensor(0.7359, device='cuda:0') loss of: 0.760587246799469 eval accuracy: tensor(0.6542, device='cuda:0')\n",
      "currently at epoch 92 train accuracy: tensor(0.7384, device='cuda:0') loss of: 0.753179982995987 eval accuracy: tensor(0.6554, device='cuda:0')\n",
      "currently at epoch 93 train accuracy: tensor(0.7355, device='cuda:0') loss of: 0.7559759192943573 eval accuracy: tensor(0.6532, device='cuda:0')\n",
      "currently at epoch 94 train accuracy: tensor(0.7367, device='cuda:0') loss of: 0.7492359085083008 eval accuracy: tensor(0.6563, device='cuda:0')\n",
      "currently at epoch 95 train accuracy: tensor(0.7400, device='cuda:0') loss of: 0.7447450175762177 eval accuracy: tensor(0.6527, device='cuda:0')\n",
      "currently at epoch 96 train accuracy: tensor(0.7380, device='cuda:0') loss of: 0.7458451189517975 eval accuracy: tensor(0.6537, device='cuda:0')\n",
      "currently at epoch 97 train accuracy: tensor(0.7418, device='cuda:0') loss of: 0.7430945920944214 eval accuracy: tensor(0.6482, device='cuda:0')\n",
      "currently at epoch 98 train accuracy: tensor(0.7416, device='cuda:0') loss of: 0.7402784302711487 eval accuracy: tensor(0.6539, device='cuda:0')\n",
      "currently at epoch 99 train accuracy: tensor(0.7436, device='cuda:0') loss of: 0.7344149756908417 eval accuracy: tensor(0.6578, device='cuda:0')\n",
      "currently at epoch 100 train accuracy: tensor(0.7467, device='cuda:0') loss of: 0.7280420971870423 eval accuracy: tensor(0.6567, device='cuda:0')\n",
      "currently at epoch 101 train accuracy: tensor(0.7476, device='cuda:0') loss of: 0.7209252725601196 eval accuracy: tensor(0.6553, device='cuda:0')\n",
      "currently at epoch 102 train accuracy: tensor(0.7482, device='cuda:0') loss of: 0.7199759652137756 eval accuracy: tensor(0.6575, device='cuda:0')\n",
      "currently at epoch 103 train accuracy: tensor(0.7488, device='cuda:0') loss of: 0.7216260540485382 eval accuracy: tensor(0.6567, device='cuda:0')\n",
      "currently at epoch 104 train accuracy: tensor(0.7519, device='cuda:0') loss of: 0.7140496847629547 eval accuracy: tensor(0.6476, device='cuda:0')\n",
      "currently at epoch 105 train accuracy: tensor(0.7513, device='cuda:0') loss of: 0.7138387251377105 eval accuracy: tensor(0.6561, device='cuda:0')\n",
      "currently at epoch 106 train accuracy: tensor(0.7529, device='cuda:0') loss of: 0.7121446979999542 eval accuracy: tensor(0.6572, device='cuda:0')\n",
      "currently at epoch 107 train accuracy: tensor(0.7514, device='cuda:0') loss of: 0.7091380620002746 eval accuracy: tensor(0.6553, device='cuda:0')\n",
      "currently at epoch 108 train accuracy: tensor(0.7549, device='cuda:0') loss of: 0.7028833456039428 eval accuracy: tensor(0.6564, device='cuda:0')\n",
      "currently at epoch 109 train accuracy: tensor(0.7543, device='cuda:0') loss of: 0.7031239649295807 eval accuracy: tensor(0.6576, device='cuda:0')\n",
      "currently at epoch 110 train accuracy: tensor(0.7577, device='cuda:0') loss of: 0.6933974529266358 eval accuracy: tensor(0.6510, device='cuda:0')\n",
      "currently at epoch 111 train accuracy: tensor(0.7629, device='cuda:0') loss of: 0.6876118502140045 eval accuracy: tensor(0.6613, device='cuda:0')\n",
      "currently at epoch 112 train accuracy: tensor(0.7588, device='cuda:0') loss of: 0.6925253796100617 eval accuracy: tensor(0.6606, device='cuda:0')\n",
      "currently at epoch 113 train accuracy: tensor(0.7610, device='cuda:0') loss of: 0.6870271489620209 eval accuracy: tensor(0.6619, device='cuda:0')\n",
      "currently at epoch 114 train accuracy: tensor(0.7616, device='cuda:0') loss of: 0.6847727428913116 eval accuracy: tensor(0.6584, device='cuda:0')\n",
      "currently at epoch 115 train accuracy: tensor(0.7625, device='cuda:0') loss of: 0.6842390250205994 eval accuracy: tensor(0.6548, device='cuda:0')\n",
      "currently at epoch 116 train accuracy: tensor(0.7628, device='cuda:0') loss of: 0.6816870677947998 eval accuracy: tensor(0.6606, device='cuda:0')\n",
      "currently at epoch 117 train accuracy: tensor(0.7632, device='cuda:0') loss of: 0.6741960177898407 eval accuracy: tensor(0.6581, device='cuda:0')\n",
      "currently at epoch 118 train accuracy: tensor(0.7662, device='cuda:0') loss of: 0.6750281310558319 eval accuracy: tensor(0.6553, device='cuda:0')\n",
      "currently at epoch 119 train accuracy: tensor(0.7681, device='cuda:0') loss of: 0.6672891388893127 eval accuracy: tensor(0.6579, device='cuda:0')\n",
      "currently at epoch 120 train accuracy: tensor(0.7693, device='cuda:0') loss of: 0.664719274187088 eval accuracy: tensor(0.6599, device='cuda:0')\n",
      "currently at epoch 121 train accuracy: tensor(0.7685, device='cuda:0') loss of: 0.6646907674789428 eval accuracy: tensor(0.6611, device='cuda:0')\n",
      "currently at epoch 122 train accuracy: tensor(0.7711, device='cuda:0') loss of: 0.6625865126609802 eval accuracy: tensor(0.6520, device='cuda:0')\n",
      "currently at epoch 123 train accuracy: tensor(0.7701, device='cuda:0') loss of: 0.6583355222225189 eval accuracy: tensor(0.6629, device='cuda:0')\n",
      "currently at epoch 124 train accuracy: tensor(0.7736, device='cuda:0') loss of: 0.6508103057861329 eval accuracy: tensor(0.6564, device='cuda:0')\n",
      "currently at epoch 125 train accuracy: tensor(0.7738, device='cuda:0') loss of: 0.6529371053695678 eval accuracy: tensor(0.6681, device='cuda:0')\n",
      "currently at epoch 126 train accuracy: tensor(0.7748, device='cuda:0') loss of: 0.650290295124054 eval accuracy: tensor(0.6685, device='cuda:0')\n",
      "currently at epoch 127 train accuracy: tensor(0.7747, device='cuda:0') loss of: 0.6493577086925506 eval accuracy: tensor(0.6592, device='cuda:0')\n",
      "currently at epoch 128 train accuracy: tensor(0.7760, device='cuda:0') loss of: 0.6448660973548889 eval accuracy: tensor(0.6613, device='cuda:0')\n",
      "currently at epoch 129 train accuracy: tensor(0.7771, device='cuda:0') loss of: 0.6386534220218658 eval accuracy: tensor(0.6582, device='cuda:0')\n",
      "currently at epoch 130 train accuracy: tensor(0.7776, device='cuda:0') loss of: 0.6366632052898407 eval accuracy: tensor(0.6560, device='cuda:0')\n",
      "currently at epoch 131 train accuracy: tensor(0.7781, device='cuda:0') loss of: 0.6380381788730621 eval accuracy: tensor(0.6556, device='cuda:0')\n",
      "currently at epoch 132 train accuracy: tensor(0.7829, device='cuda:0') loss of: 0.6288760916233063 eval accuracy: tensor(0.6628, device='cuda:0')\n",
      "currently at epoch 133 train accuracy: tensor(0.7831, device='cuda:0') loss of: 0.6253981032848358 eval accuracy: tensor(0.6631, device='cuda:0')\n",
      "currently at epoch 134 train accuracy: tensor(0.7821, device='cuda:0') loss of: 0.6244013637542725 eval accuracy: tensor(0.6572, device='cuda:0')\n",
      "currently at epoch 135 train accuracy: tensor(0.7843, device='cuda:0') loss of: 0.6200181889057159 eval accuracy: tensor(0.6635, device='cuda:0')\n",
      "currently at epoch 136 train accuracy: tensor(0.7854, device='cuda:0') loss of: 0.619736178970337 eval accuracy: tensor(0.6607, device='cuda:0')\n",
      "currently at epoch 137 train accuracy: tensor(0.7845, device='cuda:0') loss of: 0.6175209555149078 eval accuracy: tensor(0.6653, device='cuda:0')\n",
      "currently at epoch 138 train accuracy: tensor(0.7902, device='cuda:0') loss of: 0.6127229559898376 eval accuracy: tensor(0.6644, device='cuda:0')\n",
      "currently at epoch 139 train accuracy: tensor(0.7876, device='cuda:0') loss of: 0.6122821385383606 eval accuracy: tensor(0.6630, device='cuda:0')\n",
      "currently at epoch 140 train accuracy: tensor(0.7891, device='cuda:0') loss of: 0.6069557411193848 eval accuracy: tensor(0.6639, device='cuda:0')\n",
      "currently at epoch 141 train accuracy: tensor(0.7890, device='cuda:0') loss of: 0.606479028892517 eval accuracy: tensor(0.6634, device='cuda:0')\n",
      "currently at epoch 142 train accuracy: tensor(0.7939, device='cuda:0') loss of: 0.5998533678531647 eval accuracy: tensor(0.6619, device='cuda:0')\n",
      "currently at epoch 143 train accuracy: tensor(0.7933, device='cuda:0') loss of: 0.5983450959205627 eval accuracy: tensor(0.6657, device='cuda:0')\n",
      "currently at epoch 144 train accuracy: tensor(0.7929, device='cuda:0') loss of: 0.5971433532714844 eval accuracy: tensor(0.6602, device='cuda:0')\n",
      "currently at epoch 145 train accuracy: tensor(0.7935, device='cuda:0') loss of: 0.5949186250686646 eval accuracy: tensor(0.6619, device='cuda:0')\n",
      "currently at epoch 146 train accuracy: tensor(0.7955, device='cuda:0') loss of: 0.5920748608589173 eval accuracy: tensor(0.6588, device='cuda:0')\n",
      "currently at epoch 147 train accuracy: tensor(0.7970, device='cuda:0') loss of: 0.5864667499065399 eval accuracy: tensor(0.6642, device='cuda:0')\n",
      "currently at epoch 148 train accuracy: tensor(0.7976, device='cuda:0') loss of: 0.5835705372810364 eval accuracy: tensor(0.6603, device='cuda:0')\n",
      "currently at epoch 149 train accuracy: tensor(0.7971, device='cuda:0') loss of: 0.5832876524448395 eval accuracy: tensor(0.6639, device='cuda:0')\n",
      "currently at epoch 150 train accuracy: tensor(0.7973, device='cuda:0') loss of: 0.5859300416946411 eval accuracy: tensor(0.6645, device='cuda:0')\n",
      "currently at epoch 151 train accuracy: tensor(0.7993, device='cuda:0') loss of: 0.5787242615222931 eval accuracy: tensor(0.6610, device='cuda:0')\n",
      "currently at epoch 152 train accuracy: tensor(0.7982, device='cuda:0') loss of: 0.5767701115608216 eval accuracy: tensor(0.6659, device='cuda:0')\n",
      "testing accuracy of ProjectNN3 is: tensor(0.6595, device='cuda:0')\n"
     ]
    }
   ],
   "source": [
    "model = ProjectNN3()\n",
    "modelName = 'ProjectNN3'\n",
    "\n",
    "argDict = {\n",
    "  'lr': 0.001,\n",
    "  'maxEpoch': 250,\n",
    "  'idleEpoch': 25,\n",
    "  'outputName': modelName,\n",
    "  'optimizer': optim.SGD(model.parameters(), lr=0.001),\n",
    "  'criterion': nn.CrossEntropyLoss()\n",
    "}\n",
    "\n",
    "# setting up the logger\n",
    "loggerName = modelName + '.log'\n",
    "loggerName = os.path.join(argDict['outputName'], loggerName)\n",
    "logger = MyLogger(loggerName)\n",
    "argDict['logger'] = logger\n",
    "\n",
    "# just to initilalize the files\n",
    "logger.log('training starts here')\n",
    "\n",
    "# training and saving model to dictionary\n",
    "outputDict = train(model, argDict, train_loader, val_loader, test_loader)\n",
    "\n",
    "# loading the best model, and then sending it off to testing\n",
    "model = load_model_from_file(model, argDict['outputName'], argDict['outputName'])\n",
    "\n",
    "test_accuracy = test(model, argDict, test_loader)\n",
    "tempString = 'testing accuracy of ' + argDict['outputName'] + \" is: \" + str(test_accuracy)\n",
    "logger.log(tempString)\n",
    "\n",
    "argDict['test_accuracy'] = str(test_accuracy)\n",
    "save_dict_to_file(outputDict, argDict['outputName'], argDict['outputName'])\n",
    "\n",
    "del model\n",
    "del argDict\n",
    "\n",
    "# Define the folder you want to zip and the output zip file name\n",
    "folder_to_zip = modelName\n",
    "output_zip_file = modelName + \".zip\"\n",
    "\n",
    "# Use shutil.make_archive to create the zip file\n",
    "shutil.make_archive(output_zip_file, 'zip', folder_to_zip)\n",
    "\n",
    "os.rename(output_zip_file + '.zip', output_zip_file)"
   ],
   "metadata": {
    "collapsed": false,
    "pycharm": {
     "name": "#%%\n"
    }
   }
  },
  {
   "cell_type": "code",
   "execution_count": 4,
   "outputs": [],
   "source": [
    "\n"
   ],
   "metadata": {
    "collapsed": false,
    "pycharm": {
     "name": "#%%\n"
    }
   }
  }
 ],
 "metadata": {
  "colab": {
   "authorship_tag": "ABX9TyMPhCe+CPqr8788BodV/T4I",
   "provenance": []
  },
  "kernelspec": {
   "display_name": "Python 3 (ipykernel)",
   "language": "python",
   "name": "python3"
  },
  "language_info": {
   "codemirror_mode": {
    "name": "ipython",
    "version": 3
   },
   "file_extension": ".py",
   "mimetype": "text/x-python",
   "name": "python",
   "nbconvert_exporter": "python",
   "pygments_lexer": "ipython3",
   "version": "3.9.12"
  }
 },
 "nbformat": 4,
 "nbformat_minor": 1
}