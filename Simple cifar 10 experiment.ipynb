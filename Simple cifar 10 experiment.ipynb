{
 "cells": [
  {
   "cell_type": "markdown",
   "metadata": {
    "id": "arlxaCUh5jFl"
   },
   "source": [
    "# setup the model and load in the dataset\n"
   ]
  },
  {
   "cell_type": "markdown",
   "metadata": {
    "id": "gP7CEnsi8Gp4"
   },
   "source": [
    "This part sets up the dataset"
   ]
  },
  {
   "cell_type": "code",
   "execution_count": 1,
   "metadata": {
    "executionInfo": {
     "elapsed": 335,
     "status": "ok",
     "timestamp": 1692853607960,
     "user": {
      "displayName": "Kang Phan",
      "userId": "17382505543364018191"
     },
     "user_tz": -480
    },
    "id": "gWE4EXKe6aQl"
   },
   "outputs": [],
   "source": [
    "STUDENTID = 567     # this will be used for random states"
   ]
  },
  {
   "cell_type": "code",
   "execution_count": 2,
   "metadata": {
    "colab": {
     "base_uri": "https://localhost:8080/"
    },
    "executionInfo": {
     "elapsed": 14487,
     "status": "ok",
     "timestamp": 1692854163379,
     "user": {
      "displayName": "Kang Phan",
      "userId": "17382505543364018191"
     },
     "user_tz": -480
    },
    "id": "B7-VNPmt8E2m",
    "outputId": "1f1050da-e734-4407-d7c8-af006d3d6ecf"
   },
   "outputs": [
    {
     "name": "stdout",
     "output_type": "stream",
     "text": [
      "Files already downloaded and verified\n",
      "Files already downloaded and verified\n",
      "Number of training examples: 40000\n",
      "Number of validation examples: 10000\n",
      "Number of test examples: 10000\n"
     ]
    }
   ],
   "source": [
    "import torch\n",
    "import torchvision\n",
    "import torchvision.transforms as transforms\n",
    "import numpy as np\n",
    "import logging\n",
    "from utils import *\n",
    "import torch.optim as optim\n",
    "import os\n",
    "\n",
    "# Define data transformations\n",
    "transform = transforms.Compose([\n",
    "    transforms.ToTensor(),  # Convert PIL Image to PyTorch Tensor\n",
    "    transforms.Normalize((0.5, 0.5, 0.5), (0.5, 0.5, 0.5))  # Normalize the data\n",
    "])\n",
    "\n",
    "# Download and load CIFAR-100 datasets\n",
    "train_dataset = torchvision.datasets.CIFAR100(root='./data', train=True, transform=transform, download=True)\n",
    "test_dataset = torchvision.datasets.CIFAR100(root='./data', train=False, transform=transform, download=True)\n",
    "\n",
    "\n",
    "# Calculate the sizes for train, validation, and test sets\n",
    "train_size = int(0.8 * len(train_dataset))\n",
    "valid_size = len(train_dataset) - train_size\n",
    "\n",
    "# Split the train dataset into train and validation sets using a random seed\n",
    "train_dataset, valid_dataset = torch.utils.data.random_split(train_dataset, [train_size, valid_size], generator=torch.Generator().manual_seed(STUDENTID))\n",
    "\n",
    "# Create data loaders for training, validation, and test sets\n",
    "batch_size = 64\n",
    "train_loader = torch.utils.data.DataLoader(train_dataset, batch_size=batch_size, shuffle=True)\n",
    "valid_loader = torch.utils.data.DataLoader(valid_dataset, batch_size=batch_size, shuffle=False)\n",
    "test_loader = torch.utils.data.DataLoader(test_dataset, batch_size=batch_size, shuffle=False)\n",
    "\n",
    "# Print dataset sizes\n",
    "print(\"Number of training examples:\", len(train_dataset))\n",
    "print(\"Number of validation examples:\", len(valid_dataset))\n",
    "print(\"Number of test examples:\", len(test_dataset))\n",
    "\n"
   ]
  },
  {
   "cell_type": "markdown",
   "metadata": {
    "id": "ec3Yt5GL_ydv"
   },
   "source": [
    "Setting up the train, evaluation, and test functions\n"
   ]
  },
  {
   "cell_type": "markdown",
   "metadata": {
    "id": "ZqEmAt8s8Eiu"
   },
   "source": [
    "Setting up the neural network model\n"
   ]
  },
  {
   "cell_type": "code",
   "execution_count": 3,
   "metadata": {
    "id": "-PaTAXyF6P7P"
   },
   "outputs": [],
   "source": [
    "# creating a model that automatically runs the forward function i guess, since it is easier\n",
    "import torch\n",
    "import torch.nn as nn\n",
    "import torch.optim as optim\n",
    "from utils import *\n",
    "from customModels import *"
   ]
  },
  {
   "cell_type": "code",
   "execution_count": 7,
   "outputs": [
    {
     "name": "stdout",
     "output_type": "stream",
     "text": [
      "define the self\n",
      "currently at epoch 0 train accuracy: tensor(0.0253, device='cuda:0') loss of: 4.553142375946045 eval accuracy: tensor(0.0375, device='cuda:0')\n",
      "currently at epoch 1 train accuracy: tensor(0.0515, device='cuda:0') loss of: 4.296969683837891 eval accuracy: tensor(0.0617, device='cuda:0')\n",
      "currently at epoch 2 train accuracy: tensor(0.0758, device='cuda:0') loss of: 4.087499937438965 eval accuracy: tensor(0.0844, device='cuda:0')\n",
      "currently at epoch 3 train accuracy: tensor(0.0981, device='cuda:0') loss of: 3.9222949230194093 eval accuracy: tensor(0.1048, device='cuda:0')\n",
      "currently at epoch 4 train accuracy: tensor(0.1180, device='cuda:0') loss of: 3.7862459957122803 eval accuracy: tensor(0.1206, device='cuda:0')\n",
      "currently at epoch 5 train accuracy: tensor(0.1358, device='cuda:0') loss of: 3.669298194503784 eval accuracy: tensor(0.1334, device='cuda:0')\n",
      "currently at epoch 6 train accuracy: tensor(0.1515, device='cuda:0') loss of: 3.57353306388855 eval accuracy: tensor(0.1455, device='cuda:0')\n",
      "currently at epoch 7 train accuracy: tensor(0.1691, device='cuda:0') loss of: 3.476167450714111 eval accuracy: tensor(0.1675, device='cuda:0')\n",
      "currently at epoch 8 train accuracy: tensor(0.1823, device='cuda:0') loss of: 3.3962753044128418 eval accuracy: tensor(0.1729, device='cuda:0')\n"
     ]
    },
    {
     "ename": "KeyboardInterrupt",
     "evalue": "",
     "output_type": "error",
     "traceback": [
      "\u001B[1;31m---------------------------------------------------------------------------\u001B[0m",
      "\u001B[1;31mKeyboardInterrupt\u001B[0m                         Traceback (most recent call last)",
      "Cell \u001B[1;32mIn [7], line 13\u001B[0m\n\u001B[0;32m      1\u001B[0m model \u001B[38;5;241m=\u001B[39m NeuralNetwork()\n\u001B[0;32m      3\u001B[0m argDict \u001B[38;5;241m=\u001B[39m {\n\u001B[0;32m      4\u001B[0m   \u001B[38;5;124m'\u001B[39m\u001B[38;5;124mlogger\u001B[39m\u001B[38;5;124m'\u001B[39m: MyLogger(\u001B[38;5;124m\"\u001B[39m\u001B[38;5;124mFirstModelTest.log\u001B[39m\u001B[38;5;124m\"\u001B[39m),\n\u001B[0;32m      5\u001B[0m   \u001B[38;5;124m'\u001B[39m\u001B[38;5;124mlr\u001B[39m\u001B[38;5;124m'\u001B[39m: \u001B[38;5;241m0.001\u001B[39m,\n\u001B[1;32m   (...)\u001B[0m\n\u001B[0;32m     10\u001B[0m   \u001B[38;5;124m'\u001B[39m\u001B[38;5;124mcriterion\u001B[39m\u001B[38;5;124m'\u001B[39m: nn\u001B[38;5;241m.\u001B[39mCrossEntropyLoss()\n\u001B[0;32m     11\u001B[0m }\n\u001B[1;32m---> 13\u001B[0m temp \u001B[38;5;241m=\u001B[39m \u001B[43mtrain\u001B[49m\u001B[43m(\u001B[49m\u001B[43mmodel\u001B[49m\u001B[43m,\u001B[49m\u001B[43m \u001B[49m\u001B[43margDict\u001B[49m\u001B[43m,\u001B[49m\u001B[43m \u001B[49m\u001B[43mtrain_loader\u001B[49m\u001B[43m,\u001B[49m\u001B[43m \u001B[49m\u001B[43mvalid_loader\u001B[49m\u001B[43m,\u001B[49m\u001B[43m \u001B[49m\u001B[43mtest_loader\u001B[49m\u001B[43m)\u001B[49m\n\u001B[0;32m     14\u001B[0m save_dict_to_file(\u001B[38;5;28mstr\u001B[39m(temp), argDict[\u001B[38;5;124m'\u001B[39m\u001B[38;5;124moutputName\u001B[39m\u001B[38;5;124m'\u001B[39m], argDict[\u001B[38;5;124m'\u001B[39m\u001B[38;5;124moutputName\u001B[39m\u001B[38;5;124m'\u001B[39m])\n\u001B[0;32m     16\u001B[0m \u001B[38;5;28;01mdel\u001B[39;00m model\n",
      "File \u001B[1;32mD:\\gitprojects\\NNProject\\utils.py:204\u001B[0m, in \u001B[0;36mtrain\u001B[1;34m(model, argDict, givenDataloader, evalDataloader, testDataloader)\u001B[0m\n\u001B[0;32m    201\u001B[0m argDict[\u001B[38;5;124m'\u001B[39m\u001B[38;5;124moptimizer\u001B[39m\u001B[38;5;124m'\u001B[39m]\u001B[38;5;241m.\u001B[39mstep()\n\u001B[0;32m    203\u001B[0m \u001B[38;5;66;03m# data logging phase, obtains loss and accuracy\u001B[39;00m\n\u001B[1;32m--> 204\u001B[0m loss_values\u001B[38;5;241m.\u001B[39mappend((\u001B[43mloss\u001B[49m\u001B[38;5;241;43m.\u001B[39;49m\u001B[43mitem\u001B[49m\u001B[43m(\u001B[49m\u001B[43m)\u001B[49m))\n\u001B[0;32m    206\u001B[0m \u001B[38;5;66;03m# getting the accuracy\u001B[39;00m\n\u001B[0;32m    207\u001B[0m _, predicted \u001B[38;5;241m=\u001B[39m torch\u001B[38;5;241m.\u001B[39mmax(outputs, \u001B[38;5;241m1\u001B[39m)\n",
      "\u001B[1;31mKeyboardInterrupt\u001B[0m: "
     ]
    }
   ],
   "source": [
    "model = NeuralNetwork()\n",
    "modelName = '1FirstModelTest'\n",
    "\n",
    "argDict = {\n",
    "  'lr': 0.001,\n",
    "  'maxEpoch': 250,\n",
    "  'idleEpoch': 25,\n",
    "  'outputName': modelName,\n",
    "  'optimizer': optim.SGD(model.parameters(), lr=0.001),\n",
    "  'criterion': nn.CrossEntropyLoss()\n",
    "}\n",
    "\n",
    "# setting up the logger\n",
    "loggerName = modelName + '.log'\n",
    "loggerName = os.path.join(argDict['outputName'], loggerName)\n",
    "logger = MyLogger(loggerName)\n",
    "argDict['logger'] = logger\n",
    "\n",
    "# training and saving model to dictionary\n",
    "outputDict = train(model, argDict, train_loader, valid_loader, test_loader)\n",
    "save_dict_to_file(outputDict, argDict['outputName'], argDict['outputName'])\n",
    "\n",
    "# loading the best model, and then sending it off to testing\n",
    "model = load_model_from_file(model, argDict['outputName'], argDict['outputName'])\n",
    "\n",
    "test_accuracy = test(model, test_loader)\n",
    "tempString = 'testing accuracy of ' + argDict['outputName'] + \" is: \" + str(test_accuracy)\n",
    "logger.log(tempString)\n",
    "\n",
    "del model\n",
    "del argDict"
   ],
   "metadata": {
    "collapsed": false,
    "pycharm": {
     "name": "#%%\n"
    }
   }
  },
  {
   "cell_type": "code",
   "execution_count": null,
   "outputs": [],
   "source": [
    "model = NeuralNetwork()\n",
    "modelName = '2lowerLR'\n",
    "\n",
    "argDict = {\n",
    "  'lr': 0.0005,\n",
    "  'maxEpoch': 250,\n",
    "  'idleEpoch': 25,\n",
    "  'outputName': modelName,\n",
    "  'optimizer': optim.SGD(model.parameters(), lr=0.001),\n",
    "  'criterion': nn.CrossEntropyLoss()\n",
    "}\n",
    "\n",
    "# setting up the logger\n",
    "loggerName = modelName + '.log'\n",
    "loggerName = os.path.join(argDict['outputName'], loggerName)\n",
    "logger = MyLogger(loggerName)\n",
    "argDict['logger'] = logger\n",
    "\n",
    "# training and saving model to dictionary\n",
    "outputDict = train(model, argDict, train_loader, valid_loader, test_loader)\n",
    "save_dict_to_file(outputDict, argDict['outputName'], argDict['outputName'])\n",
    "\n",
    "# loading the best model, and then sending it off to testing\n",
    "model = load_model_from_file(model, argDict['outputName'], argDict['outputName'])\n",
    "\n",
    "test_accuracy = test(model, test_loader)\n",
    "tempString = 'testing accuracy of ' + argDict['outputName'] + \" is: \" + str(test_accuracy)\n",
    "logger.log(tempString)\n",
    "\n",
    "del model\n",
    "del argDict"
   ],
   "metadata": {
    "collapsed": false,
    "pycharm": {
     "name": "#%%\n"
    }
   }
  },
  {
   "cell_type": "code",
   "execution_count": null,
   "outputs": [],
   "source": [
    "model = NeuralNetwork()\n",
    "modelName = '3rdHigherLR'\n",
    "\n",
    "argDict = {\n",
    "  'lr': 0.003,\n",
    "  'maxEpoch': 250,\n",
    "  'idleEpoch': 25,\n",
    "  'outputName': modelName,\n",
    "  'optimizer': optim.SGD(model.parameters(), lr=0.001),\n",
    "  'criterion': nn.CrossEntropyLoss()\n",
    "}\n",
    "\n",
    "# setting up the logger\n",
    "loggerName = modelName + '.log'\n",
    "loggerName = os.path.join(argDict['outputName'], loggerName)\n",
    "logger = MyLogger(loggerName)\n",
    "argDict['logger'] = logger\n",
    "\n",
    "# training and saving model to dictionary\n",
    "outputDict = train(model, argDict, train_loader, valid_loader, test_loader)\n",
    "save_dict_to_file(outputDict, argDict['outputName'], argDict['outputName'])\n",
    "\n",
    "# loading the best model, and then sending it off to testing\n",
    "model = load_model_from_file(model, argDict['outputName'], argDict['outputName'])\n",
    "\n",
    "test_accuracy = test(model, test_loader)\n",
    "tempString = 'testing accuracy of ' + argDict['outputName'] + \" is: \" + str(test_accuracy)\n",
    "logger.log(tempString)\n",
    "\n",
    "del model\n",
    "del argDict"
   ],
   "metadata": {
    "collapsed": false,
    "pycharm": {
     "name": "#%%\n"
    }
   }
  },
  {
   "cell_type": "code",
   "execution_count": null,
   "outputs": [],
   "source": [
    "with open('finished.txt', \"w\") as file:\n",
    "  file.write('donezo')"
   ],
   "metadata": {
    "collapsed": false,
    "pycharm": {
     "name": "#%%\n"
    }
   }
  }
 ],
 "metadata": {
  "colab": {
   "authorship_tag": "ABX9TyMPhCe+CPqr8788BodV/T4I",
   "provenance": []
  },
  "kernelspec": {
   "display_name": "Python 3 (ipykernel)",
   "language": "python",
   "name": "python3"
  },
  "language_info": {
   "codemirror_mode": {
    "name": "ipython",
    "version": 3
   },
   "file_extension": ".py",
   "mimetype": "text/x-python",
   "name": "python",
   "nbconvert_exporter": "python",
   "pygments_lexer": "ipython3",
   "version": "3.9.12"
  }
 },
 "nbformat": 4,
 "nbformat_minor": 1
}