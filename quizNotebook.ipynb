{
 "cells": [
  {
   "cell_type": "code",
   "execution_count": 2,
   "metadata": {
    "collapsed": true
   },
   "outputs": [
    {
     "name": "stdout",
     "output_type": "stream",
     "text": [
      "tensor([[[[0.6000, 0.8000, 1.0000],\n",
      "          [0.8000, 1.0000, 1.2000],\n",
      "          [1.0000, 1.2000, 1.4000]]]], grad_fn=<ReluBackward0>)\n",
      "tensor([[[[1.0000, 1.2000],\n",
      "          [1.2000, 1.4000]]]], grad_fn=<MaxPool2DWithIndicesBackward0>)\n"
     ]
    }
   ],
   "source": [
    "import torch\n",
    "import torch.nn as nn\n",
    "import torch.nn.functional as F\n",
    "\n",
    "# Define an example input tensor of size 5x5 and a custom kernel as PyTorch tensors\n",
    "input_image = torch.tensor([[0.1, 0.2, 0.3, 0.4, 0.5],\n",
    "                            [0.2, 0.3, 0.4, 0.5, 0.6],\n",
    "                            [0.3, 0.4, 0.5, 0.6, 0.7],\n",
    "                            [0.4, 0.5, 0.6, 0.7, 0.8],\n",
    "                            [0.5, 0.6, 0.7, 0.8, 0.9]], dtype=torch.float32)\n",
    "\n",
    "# Convert the input image to a 4D tensor (batch size of 1, number of channels, height, width)\n",
    "input_image = input_image.unsqueeze(0).unsqueeze(0)\n",
    "\n",
    "kernel = torch.tensor([[0, -1, 0],\n",
    "                       [-1, 6, -1],\n",
    "                       [0, -1, 0]], dtype=torch.float32)\n",
    "\n",
    "# Convert the kernel to a 4D tensor (number of output channels, number of input channels, kernel height, kernel width)\n",
    "kernel = kernel.unsqueeze(0).unsqueeze(0)\n",
    "\n",
    "# Create a convolutional layer with the custom kernel\n",
    "conv_layer = nn.Conv2d(1, 1, kernel_size=3, padding=0, bias=False)\n",
    "\n",
    "relu_layer = nn.ReLU()\n",
    "\n",
    "pad_layer = nn.MaxPool2d(2, stride=1)\n",
    "\n",
    "# Set the weight of the convolutional layer to the custom kernel\n",
    "conv_layer.weight.data = kernel\n",
    "\n",
    "# Perform convolution\n",
    "output = conv_layer(input_image)\n",
    "relu_output = relu_layer(output)\n",
    "pool_output = pad_layer(relu_output)\n",
    "\n",
    "# Print the result\n",
    "print(relu_output)\n",
    "print(pool_output)\n"
   ]
  },
  {
   "cell_type": "code",
   "execution_count": 8,
   "outputs": [
    {
     "name": "stdout",
     "output_type": "stream",
     "text": [
      "==========================================================================================\n",
      "Layer (type:depth-idx)                   Output Shape              Param #\n",
      "==========================================================================================\n",
      "SimpleNeuralNetwork                      [20]                      --\n",
      "├─Conv2d: 1-1                            [150, 120, 120]           54,600\n",
      "├─Conv2d: 1-2                            [75, 58, 58]              720,075\n",
      "├─MaxPool2d: 1-3                         [75, 29, 29]              --\n",
      "├─Flatten: 1-4                           [63075]                   --\n",
      "├─Linear: 1-5                            [300]                     18,922,800\n",
      "├─Linear: 1-6                            [20]                      6,020\n",
      "==========================================================================================\n",
      "Total params: 19,703,495\n",
      "Trainable params: 19,703,495\n",
      "Non-trainable params: 0\n",
      "Total mult-adds (G): 9.79\n",
      "==========================================================================================\n",
      "Input size (MB): 0.20\n",
      "Forward/backward pass size (MB): 19.30\n",
      "Params size (MB): 78.81\n",
      "Estimated Total Size (MB): 98.32\n",
      "==========================================================================================\n"
     ]
    }
   ],
   "source": [
    "import torch\n",
    "import torch.nn as nn\n",
    "from torchinfo import summary\n",
    "\n",
    "class SimpleNeuralNetwork(nn.Module):\n",
    "    def __init__(self):\n",
    "        super(SimpleNeuralNetwork, self).__init__()\n",
    "        # Define the layers of the neural network\n",
    "        self.conv1 = nn.Conv2d(3, 150, 11)\n",
    "        self.conv2 = nn.Conv2d(150, 75, 8, stride=2, padding=1)\n",
    "        self.pool1 = nn.MaxPool2d(2, stride=2)\n",
    "\n",
    "        self.flatten = nn.Flatten(start_dim=0)\n",
    "\n",
    "        self.fc1 = nn.Linear(63075, 300)\n",
    "        self.fc2 = nn.Linear(300, 20)\n",
    "\n",
    "    def forward(self, x):\n",
    "        # Define the forward pass of the neural network\n",
    "        x = self.conv1(x)\n",
    "        x = self.conv2(x)\n",
    "        x = self.pool1(x)\n",
    "        x = self.flatten(x)\n",
    "        x = self.fc1(x)\n",
    "        x = self.fc2(x)\n",
    "        return x\n",
    "\n",
    "model = SimpleNeuralNetwork()\n",
    "\n",
    "print(summary(model, input_size=(3, 130, 130)))\n"
   ],
   "metadata": {
    "collapsed": false,
    "pycharm": {
     "name": "#%%\n"
    }
   }
  },
  {
   "cell_type": "code",
   "execution_count": 9,
   "outputs": [
    {
     "name": "stdout",
     "output_type": "stream",
     "text": [
      "tensor([0.4223, 0.1554, 0.4223])\n"
     ]
    }
   ],
   "source": [
    "import torch\n",
    "import torch.nn.functional as F\n",
    "\n",
    "# Input tensor\n",
    "input_tensor = torch.tensor([3.0, 2.0, 3.0])\n",
    "\n",
    "# Apply softmax activation\n",
    "output_tensor = F.softmax(input_tensor, dim=0)\n",
    "\n",
    "# Print the output tensor\n",
    "print(output_tensor)\n"
   ],
   "metadata": {
    "collapsed": false,
    "pycharm": {
     "name": "#%%\n"
    }
   }
  },
  {
   "cell_type": "code",
   "execution_count": 13,
   "outputs": [
    {
     "name": "stdout",
     "output_type": "stream",
     "text": [
      "tensor(1.8620)\n"
     ]
    }
   ],
   "source": [
    "crossEN = nn.CrossEntropyLoss()\n",
    "\n",
    "input_tensor = torch.tensor([3.0, 2.0, 3.0])\n",
    "target_tensor = torch.tensor([0.0, 1.0, 0.0])\n",
    "\n",
    "output = crossEN(input_tensor, target_tensor)\n",
    "print(output)"
   ],
   "metadata": {
    "collapsed": false,
    "pycharm": {
     "name": "#%%\n"
    }
   }
  },
  {
   "cell_type": "code",
   "execution_count": null,
   "outputs": [],
   "source": [],
   "metadata": {
    "collapsed": false,
    "pycharm": {
     "name": "#%%\n"
    }
   }
  }
 ],
 "metadata": {
  "kernelspec": {
   "display_name": "Python 3",
   "language": "python",
   "name": "python3"
  },
  "language_info": {
   "codemirror_mode": {
    "name": "ipython",
    "version": 2
   },
   "file_extension": ".py",
   "mimetype": "text/x-python",
   "name": "python",
   "nbconvert_exporter": "python",
   "pygments_lexer": "ipython2",
   "version": "2.7.6"
  }
 },
 "nbformat": 4,
 "nbformat_minor": 0
}